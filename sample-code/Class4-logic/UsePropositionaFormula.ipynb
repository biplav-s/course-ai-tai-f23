{
 "cells": [
  {
   "cell_type": "code",
   "execution_count": 1,
   "id": "c43b2430-09d2-45a5-adf5-86d43f7f953a",
   "metadata": {},
   "outputs": [
    {
     "data": {
      "text/plain": [
       "'\\ndisjuction = foo | bar\\nconjunction = foo & bar\\nimplication = foo >> bar\\nif_and_only_if = foo << bar\\ninverse = ~foo\\nsimple_tautology = foo | ~foo\\nsimple_negative_tautology = foo & ~foo\\n'"
      ]
     },
     "execution_count": 1,
     "metadata": {},
     "output_type": "execute_result"
    }
   ],
   "source": [
    "# Based on https://gist.github.com/gvx/2185287\n",
    "'''\n",
    "disjuction = foo | bar\n",
    "conjunction = foo & bar\n",
    "implication = foo >> bar\n",
    "if_and_only_if = foo << bar\n",
    "inverse = ~foo\n",
    "simple_tautology = foo | ~foo\n",
    "simple_negative_tautology = foo & ~foo\n",
    "'''"
   ]
  },
  {
   "cell_type": "code",
   "execution_count": 2,
   "id": "f085b6d1-7294-4eb4-bce1-5a8818503fae",
   "metadata": {},
   "outputs": [],
   "source": [
    "from formula import Atom"
   ]
  },
  {
   "cell_type": "code",
   "execution_count": 3,
   "id": "9cca586d-7b5d-4bbd-8fcc-17a4f5ab2a25",
   "metadata": {},
   "outputs": [],
   "source": [
    "a = Atom('a')\n",
    "b = Atom('b')\n",
    "c = Atom('c')"
   ]
  },
  {
   "cell_type": "code",
   "execution_count": 4,
   "id": "6a400985-a2c3-4340-93c5-c2e07e9b5a53",
   "metadata": {},
   "outputs": [],
   "source": [
    "def dop(f, e):\n",
    "\tprint(\"Formula: \", f)\n",
    "\tprint(\"Valuation for\", e, \": \", f.v(e))\n",
    "\tprint(\"Counterexample: \", f.t())"
   ]
  },
  {
   "cell_type": "code",
   "execution_count": 5,
   "id": "8aa75a85-4ec5-46e1-8eb7-9e1d72a860a5",
   "metadata": {},
   "outputs": [
    {
     "name": "stdout",
     "output_type": "stream",
     "text": [
      "Formula:  (a ∨ b)\n",
      "Valuation for {a} :  True\n",
      "Counterexample:  set()\n"
     ]
    }
   ],
   "source": [
    "# a or b\n",
    "dop(a | b, {a})"
   ]
  },
  {
   "cell_type": "code",
   "execution_count": 7,
   "id": "616075e5-2e25-4b51-ab7f-1a3cce4af802",
   "metadata": {},
   "outputs": [
    {
     "name": "stdout",
     "output_type": "stream",
     "text": [
      "Formula:  (a ∨ ¬a)\n",
      "Valuation for {} :  True\n",
      "Counterexample:  None\n"
     ]
    }
   ],
   "source": [
    "# tautology\n",
    "dop(a | ~a, {})"
   ]
  },
  {
   "cell_type": "code",
   "execution_count": 8,
   "id": "a0eb3fab-81bf-4bfd-8031-e57a6360ac1d",
   "metadata": {},
   "outputs": [
    {
     "name": "stdout",
     "output_type": "stream",
     "text": [
      "Formula:  (a → b)\n",
      "Valuation for {a} :  False\n",
      "Counterexample:  {a}\n"
     ]
    }
   ],
   "source": [
    "# a implies b\n",
    "dop(a >> b, {a})"
   ]
  },
  {
   "cell_type": "code",
   "execution_count": 9,
   "id": "70faf85b-b8a2-4784-983f-d201e43c8987",
   "metadata": {},
   "outputs": [
    {
     "name": "stdout",
     "output_type": "stream",
     "text": [
      "Formula:  (¬a ∧ ¬¬¬b)\n",
      "Valuation for {} :  True\n",
      "Counterexample:  {b}\n"
     ]
    }
   ],
   "source": [
    "# Complicated expression\n",
    "dop(~a & ~~~b, {})"
   ]
  },
  {
   "cell_type": "code",
   "execution_count": 10,
   "id": "5a5b2768-44ee-4c7d-a950-c41d0f1c1644",
   "metadata": {},
   "outputs": [
    {
     "name": "stdout",
     "output_type": "stream",
     "text": [
      "Formula:  ((a → b) ∨ (b → a))\n",
      "Valuation for {} :  True\n",
      "Counterexample:  None\n"
     ]
    }
   ],
   "source": [
    "# Implication\n",
    "dop((a >> b) | (b >> a), {})"
   ]
  },
  {
   "cell_type": "code",
   "execution_count": 11,
   "id": "2325b447-a346-4968-bbbd-1a7d931b0642",
   "metadata": {},
   "outputs": [
    {
     "name": "stdout",
     "output_type": "stream",
     "text": [
      "Formula:  (a → a)\n",
      "Valuation for {a} :  True\n",
      "Counterexample:  None\n"
     ]
    }
   ],
   "source": [
    "# a implies a\n",
    "dop(a >> a, {a})"
   ]
  },
  {
   "cell_type": "code",
   "execution_count": null,
   "id": "5b1a5653-1e33-435f-aa3b-94f9153cc55c",
   "metadata": {},
   "outputs": [],
   "source": []
  }
 ],
 "metadata": {
  "kernelspec": {
   "display_name": "Python 3 (ipykernel)",
   "language": "python",
   "name": "python3"
  },
  "language_info": {
   "codemirror_mode": {
    "name": "ipython",
    "version": 3
   },
   "file_extension": ".py",
   "mimetype": "text/x-python",
   "name": "python",
   "nbconvert_exporter": "python",
   "pygments_lexer": "ipython3",
   "version": "3.11.3"
  }
 },
 "nbformat": 4,
 "nbformat_minor": 5
}
