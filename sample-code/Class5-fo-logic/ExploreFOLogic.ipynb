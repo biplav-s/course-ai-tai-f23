{
 "cells": [
  {
   "cell_type": "code",
   "execution_count": 1,
   "id": "0f856c68-eb36-4c4b-ac53-cae54268cb52",
   "metadata": {},
   "outputs": [],
   "source": [
    "# Based on https://www.annytab.com/first-order-logic-in-python/\n",
    "# Reuses AIMA code"
   ]
  },
  {
   "cell_type": "code",
   "execution_count": 2,
   "id": "b5fc00d9-2bc2-46ad-8f60-745c14862c63",
   "metadata": {},
   "outputs": [],
   "source": [
    "# Import libraries\n",
    "import aima.utils\n",
    "import aima.logic"
   ]
  },
  {
   "cell_type": "code",
   "execution_count": 3,
   "id": "6be5565c-7929-4e6c-8afb-6af3d50d2a95",
   "metadata": {},
   "outputs": [],
   "source": [
    "def initialize():\n",
    "    # Create an array to hold clauses\n",
    "    clauses = []\n",
    "\n",
    "    # Add first-order logic clauses (rules and fact)\n",
    "    clauses.append(aima.utils.expr(\"(American(x) & Weapon(y) & Sells(x, y, z) & Hostile(z)) ==> Criminal(x)\"))\n",
    "    clauses.append(aima.utils.expr(\"Enemy(Nono, America)\"))\n",
    "    clauses.append(aima.utils.expr(\"Owns(Nono, M1)\"))\n",
    "    clauses.append(aima.utils.expr(\"Missile(M1)\"))\n",
    "    clauses.append(aima.utils.expr(\"(Missile(x) & Owns(Nono, x)) ==> Sells(West, x, Nono)\"))\n",
    "    clauses.append(aima.utils.expr(\"American(West)\"))\n",
    "    clauses.append(aima.utils.expr(\"Missile(x) ==> Weapon(x)\"))\n",
    "\n",
    "    # Create a first-order logic knowledge base (KB) with clauses\n",
    "    KB = aima.logic.FolKB(clauses)\n",
    "\n",
    "    # Add rules and facts with tell\n",
    "    KB.tell(aima.utils.expr('Enemy(Coco, America)'))\n",
    "    KB.tell(aima.utils.expr('Enemy(Jojo, America)'))\n",
    "    KB.tell(aima.utils.expr(\"Enemy(x, America) ==> Hostile(x)\"))\n",
    "\n",
    "    return clauses, KB"
   ]
  },
  {
   "cell_type": "code",
   "execution_count": 4,
   "id": "1397e1a4-8e01-4c98-b85d-f818f443890c",
   "metadata": {},
   "outputs": [],
   "source": [
    "clauses, KB = initialize()"
   ]
  },
  {
   "cell_type": "markdown",
   "id": "786c13b5-cb9f-45f5-83a0-05518b8e000a",
   "metadata": {},
   "source": [
    "## Backward Chaining"
   ]
  },
  {
   "cell_type": "code",
   "execution_count": 5,
   "id": "4f966321-be81-42dd-b888-ab5fdaa771a3",
   "metadata": {},
   "outputs": [],
   "source": [
    "# Get information from the knowledge base with ask\n",
    "hostile = KB.ask(aima.utils.expr('Hostile(x)'))\n",
    "criminal = KB.ask(aima.utils.expr('Criminal(x)'))"
   ]
  },
  {
   "cell_type": "code",
   "execution_count": 6,
   "id": "7e958ada-fa53-427a-ab6d-12e9a0799afc",
   "metadata": {},
   "outputs": [
    {
     "name": "stdout",
     "output_type": "stream",
     "text": [
      "Hostile?\n",
      "{v_5: Nono, x: Nono}\n",
      "Criminal?\n",
      "{v_9: West, x: West, v_20: M1, v_10: M1, v_27: M1, v_11: Nono, v_39: Nono}\n"
     ]
    }
   ],
   "source": [
    "# Print answers\n",
    "print('Hostile?')\n",
    "print(hostile)\n",
    "print('Criminal?')\n",
    "print(criminal)"
   ]
  },
  {
   "cell_type": "markdown",
   "id": "5bbf3f1a-3488-44a6-8a35-a864eb8da984",
   "metadata": {},
   "source": [
    "## Forward Chaining"
   ]
  },
  {
   "cell_type": "code",
   "execution_count": 7,
   "id": "ca95a1f1-bc36-4ffb-8f9e-641781f44dd6",
   "metadata": {},
   "outputs": [],
   "source": [
    "# Get information from the knowledge base with ask\n",
    "hostile = aima.logic.fol_fc_ask(KB, aima.utils.expr('Hostile(x)'))\n",
    "criminal = aima.logic.fol_fc_ask(KB, aima.utils.expr('Criminal(x)'))"
   ]
  },
  {
   "cell_type": "code",
   "execution_count": 9,
   "id": "d8ec8c40-8d70-4f4f-b743-3ea818230ed2",
   "metadata": {},
   "outputs": [
    {
     "name": "stdout",
     "output_type": "stream",
     "text": [
      "Hostile?\n",
      "[{x: Coco}, {x: Nono}, {x: Jojo}]\n",
      "Criminal?\n",
      "[{x: West}]\n"
     ]
    }
   ],
   "source": [
    "# Print answers\n",
    "print('Hostile?')\n",
    "print(list(hostile))\n",
    "print('Criminal?')\n",
    "print(list(criminal))"
   ]
  },
  {
   "cell_type": "code",
   "execution_count": null,
   "id": "df0644ed-1087-4abb-a941-4e4b525b037e",
   "metadata": {},
   "outputs": [],
   "source": []
  }
 ],
 "metadata": {
  "kernelspec": {
   "display_name": "Python 3 (ipykernel)",
   "language": "python",
   "name": "python3"
  },
  "language_info": {
   "codemirror_mode": {
    "name": "ipython",
    "version": 3
   },
   "file_extension": ".py",
   "mimetype": "text/x-python",
   "name": "python",
   "nbconvert_exporter": "python",
   "pygments_lexer": "ipython3",
   "version": "3.11.3"
  }
 },
 "nbformat": 4,
 "nbformat_minor": 5
}
