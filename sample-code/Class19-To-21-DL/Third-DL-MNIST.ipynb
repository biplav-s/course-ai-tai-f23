{
 "cells": [
  {
   "cell_type": "code",
   "execution_count": 1,
   "id": "90f77b4b",
   "metadata": {},
   "outputs": [],
   "source": [
    "# Based on https://www.tensorflow.org/tutorials/quickstart/beginner"
   ]
  },
  {
   "cell_type": "code",
   "execution_count": 2,
   "id": "ec239c03",
   "metadata": {},
   "outputs": [],
   "source": [
    "# Import\n",
    "import tensorflow as tf"
   ]
  },
  {
   "cell_type": "code",
   "execution_count": 3,
   "id": "c5532539",
   "metadata": {},
   "outputs": [],
   "source": [
    "# Load data\n",
    "mnist = tf.keras.datasets.mnist"
   ]
  },
  {
   "cell_type": "code",
   "execution_count": 6,
   "id": "8e984ce6",
   "metadata": {},
   "outputs": [],
   "source": [
    "# Divide into training and test\n",
    "(x_train, y_train), (x_test, y_test) = mnist.load_data()\n",
    "x_train, x_test = x_train / 255.0, x_test / 255.0"
   ]
  },
  {
   "cell_type": "code",
   "execution_count": 7,
   "id": "ddcb66cc",
   "metadata": {},
   "outputs": [],
   "source": [
    "# Build a model\n",
    "model = tf.keras.models.Sequential([\n",
    "  tf.keras.layers.Flatten(input_shape=(28, 28)),\n",
    "  tf.keras.layers.Dense(128, activation='relu'),\n",
    "  tf.keras.layers.Dropout(0.2),\n",
    "  tf.keras.layers.Dense(10)\n",
    "])"
   ]
  },
  {
   "cell_type": "code",
   "execution_count": 8,
   "id": "43918eb6",
   "metadata": {},
   "outputs": [
    {
     "data": {
      "text/plain": [
       "array([[ 0.24848408, -0.44552875, -0.04328705,  0.2986431 , -0.20161095,\n",
       "         0.606484  ,  0.19981733,  0.24408078, -0.08566336, -0.6067805 ]],\n",
       "      dtype=float32)"
      ]
     },
     "execution_count": 8,
     "metadata": {},
     "output_type": "execute_result"
    }
   ],
   "source": [
    "# Example prediction in logits/ log-odds scores, one for each class.\n",
    "predictions = model(x_train[:1]).numpy()\n",
    "predictions"
   ]
  },
  {
   "cell_type": "code",
   "execution_count": 9,
   "id": "45728c0f",
   "metadata": {},
   "outputs": [
    {
     "data": {
      "text/plain": [
       "array([[0.11827038, 0.05908402, 0.08834082, 0.12435401, 0.07540536,\n",
       "        0.1691817 , 0.11265237, 0.11775076, 0.08467547, 0.0502851 ]],\n",
       "      dtype=float32)"
      ]
     },
     "execution_count": 9,
     "metadata": {},
     "output_type": "execute_result"
    }
   ],
   "source": [
    "# Probability of the prediction being 0, 1, 2, ..., 9\n",
    "tf.nn.softmax(predictions).numpy()\n"
   ]
  },
  {
   "cell_type": "code",
   "execution_count": 10,
   "id": "489c407f",
   "metadata": {},
   "outputs": [],
   "source": [
    "# Loss function\n",
    "loss_fn = tf.keras.losses.SparseCategoricalCrossentropy(from_logits=True)"
   ]
  },
  {
   "cell_type": "code",
   "execution_count": 11,
   "id": "31b111d0",
   "metadata": {},
   "outputs": [
    {
     "data": {
      "text/plain": [
       "1.776782"
      ]
     },
     "execution_count": 11,
     "metadata": {},
     "output_type": "execute_result"
    }
   ],
   "source": [
    "# Loss at a prediction point\n",
    "loss_fn(y_train[:1], predictions).numpy()"
   ]
  },
  {
   "cell_type": "code",
   "execution_count": 12,
   "id": "62a52586",
   "metadata": {},
   "outputs": [],
   "source": [
    "# Compiling the model\n",
    "model.compile(optimizer='adam',\n",
    "              loss=loss_fn,\n",
    "              metrics=['accuracy'])"
   ]
  },
  {
   "cell_type": "code",
   "execution_count": 14,
   "id": "c0b7bff9",
   "metadata": {},
   "outputs": [
    {
     "name": "stdout",
     "output_type": "stream",
     "text": [
      "Epoch 1/5\n",
      "1875/1875 [==============================] - 2s 1ms/step - loss: 0.0873 - accuracy: 0.9732\n",
      "Epoch 2/5\n",
      "1875/1875 [==============================] - 2s 1ms/step - loss: 0.0734 - accuracy: 0.9772\n",
      "Epoch 3/5\n",
      "1875/1875 [==============================] - 2s 1ms/step - loss: 0.0662 - accuracy: 0.9787\n",
      "Epoch 4/5\n",
      "1875/1875 [==============================] - 2s 1ms/step - loss: 0.0568 - accuracy: 0.9820\n",
      "Epoch 5/5\n",
      "1875/1875 [==============================] - 2s 1ms/step - loss: 0.0531 - accuracy: 0.9827\n"
     ]
    },
    {
     "data": {
      "text/plain": [
       "<keras.callbacks.History at 0x7fbab35caf10>"
      ]
     },
     "execution_count": 14,
     "metadata": {},
     "output_type": "execute_result"
    }
   ],
   "source": [
    "# Fit\n",
    "model.fit(x_train, y_train, epochs=5)"
   ]
  },
  {
   "cell_type": "code",
   "execution_count": 15,
   "id": "4389a3f3",
   "metadata": {},
   "outputs": [
    {
     "name": "stdout",
     "output_type": "stream",
     "text": [
      "313/313 - 0s - loss: 0.0697 - accuracy: 0.9789 - 391ms/epoch - 1ms/step\n"
     ]
    },
    {
     "data": {
      "text/plain": [
       "[0.069686658680439, 0.9789000153541565]"
      ]
     },
     "execution_count": 15,
     "metadata": {},
     "output_type": "execute_result"
    }
   ],
   "source": [
    "# Evaluate results\n",
    "model.evaluate(x_test,  y_test, verbose=2)"
   ]
  },
  {
   "cell_type": "code",
   "execution_count": 17,
   "id": "3d634062",
   "metadata": {},
   "outputs": [],
   "source": [
    "# One can find the probability from the trained model, one can attach the softmax to the model\n",
    "probability_model = tf.keras.Sequential([\n",
    "        model,\n",
    "        tf.keras.layers.Softmax()\n",
    "    ])"
   ]
  },
  {
   "cell_type": "code",
   "execution_count": 18,
   "id": "59b1cf79",
   "metadata": {},
   "outputs": [
    {
     "data": {
      "text/plain": [
       "<tf.Tensor: shape=(10, 10), dtype=float32, numpy=\n",
       "array([[1.03779199e-08, 9.84376400e-11, 2.11749011e-07, 2.65900348e-06,\n",
       "        3.16648999e-11, 2.81524333e-08, 4.89720442e-15, 9.99995708e-01,\n",
       "        3.59135255e-09, 1.39473559e-06],\n",
       "       [4.35747688e-11, 2.74716029e-07, 9.99999762e-01, 2.34018416e-10,\n",
       "        6.06166431e-19, 2.62703925e-09, 2.25505781e-10, 2.65488554e-16,\n",
       "        9.66460068e-09, 1.24837881e-18],\n",
       "       [4.26487432e-08, 9.99790490e-01, 2.11413626e-05, 1.36529422e-06,\n",
       "        3.11056647e-06, 4.89369882e-07, 8.08937841e-07, 1.28078958e-04,\n",
       "        5.44771792e-05, 4.32788871e-09],\n",
       "       [9.99980807e-01, 8.04022821e-11, 1.21849653e-05, 1.10388321e-09,\n",
       "        4.35051639e-08, 1.38834082e-08, 8.83145731e-07, 2.58319437e-06,\n",
       "        2.64401244e-11, 3.43504303e-06],\n",
       "       [1.16646355e-08, 9.49921738e-12, 9.03333557e-07, 1.19227064e-08,\n",
       "        9.99418855e-01, 8.40504022e-09, 2.87087563e-08, 7.62009731e-05,\n",
       "        1.24088197e-08, 5.03956340e-04],\n",
       "       [2.52894372e-09, 9.99738157e-01, 1.16932995e-07, 1.33371131e-07,\n",
       "        1.19772733e-06, 5.92150884e-10, 1.60518421e-09, 2.58133892e-04,\n",
       "        2.21282448e-06, 1.92696725e-09],\n",
       "       [2.64680335e-12, 7.12986831e-12, 1.74677883e-09, 2.07712944e-10,\n",
       "        9.99973893e-01, 1.25394308e-06, 4.52888171e-09, 2.76768446e-07,\n",
       "        1.04560354e-06, 2.34648087e-05],\n",
       "       [5.19152386e-12, 3.42785604e-08, 5.88496823e-06, 1.62931904e-03,\n",
       "        4.27347753e-04, 3.42489727e-07, 6.67538399e-13, 1.41977889e-05,\n",
       "        6.69240805e-08, 9.97922838e-01],\n",
       "       [3.16921489e-10, 5.51132273e-12, 8.01843998e-04, 3.70661557e-10,\n",
       "        2.67874366e-05, 3.42656285e-01, 6.48712814e-01, 3.25646056e-06,\n",
       "        6.86180661e-04, 7.11282529e-03],\n",
       "       [8.47128704e-12, 1.06096998e-11, 6.49466303e-09, 1.27654960e-06,\n",
       "        5.65234572e-04, 1.21379973e-09, 1.10988718e-14, 3.05015733e-03,\n",
       "        2.39934934e-06, 9.96380985e-01]], dtype=float32)>"
      ]
     },
     "execution_count": 18,
     "metadata": {},
     "output_type": "execute_result"
    }
   ],
   "source": [
    "# Now, the results on a sample\n",
    "probability_model(x_test[:10])"
   ]
  },
  {
   "cell_type": "code",
   "execution_count": null,
   "id": "7d107867",
   "metadata": {},
   "outputs": [],
   "source": [
    "# More advanced steps for MNIST are at: https://www.tensorflow.org/tutorials/quickstart/advanced"
   ]
  }
 ],
 "metadata": {
  "kernelspec": {
   "display_name": "Python 3",
   "language": "python",
   "name": "python3"
  },
  "language_info": {
   "codemirror_mode": {
    "name": "ipython",
    "version": 3
   },
   "file_extension": ".py",
   "mimetype": "text/x-python",
   "name": "python",
   "nbconvert_exporter": "python",
   "pygments_lexer": "ipython3",
   "version": "3.7.6"
  }
 },
 "nbformat": 4,
 "nbformat_minor": 5
}
