{
 "cells": [
  {
   "cell_type": "code",
   "execution_count": 1,
   "id": "6a9ea0ee",
   "metadata": {},
   "outputs": [],
   "source": [
    "# First version of this code:\n",
    "# - https://github.com/biplav-s/course-nl/blob/master/l9-ml-review/Basic%20TensorFlow%20and%20Keras.ipynb\n",
    "#\n",
    "## References\n",
    "#  - Keras for prediction: https://machinelearningmastery.com/tutorial-first-neural-network-python-keras/\n",
    "#  - Visalizing: https://towardsdatascience.com/visualizing-artificial-neural-networks-anns-with-just-one-line-of-code-b4233607209e\n",
    "\n"
   ]
  },
  {
   "cell_type": "code",
   "execution_count": 2,
   "id": "fc458cbb",
   "metadata": {},
   "outputs": [],
   "source": [
    "## For installation, if not present \n",
    "#\n",
    "# Tensorflow first\n",
    "# -- From tensorflow 1.x to 2.x, may have to uninstall previous one\n",
    "#!pip uninstall tensorflow\n",
    "#!pip uninstall protobuf\n",
    "# ---\n",
    "#!pip install tensorflow\n",
    "#\n",
    "# -- Other libraries\n",
    "#!pip install keras\n",
    "#!pip install ann_visualizer\n",
    "#!pip install graphviz"
   ]
  },
  {
   "cell_type": "code",
   "execution_count": 3,
   "id": "6244ddf3",
   "metadata": {},
   "outputs": [],
   "source": [
    "# Load keras\n",
    "from keras.models import Sequential\n",
    "from keras.layers import Dense\n",
    "# first neural network with keras tutorial\n",
    "from numpy import loadtxt"
   ]
  },
  {
   "cell_type": "code",
   "execution_count": 4,
   "id": "3cf40014",
   "metadata": {},
   "outputs": [],
   "source": [
    "# load the dataset\n",
    "dataset = loadtxt('./data/pima-indians-diabetes.csv', delimiter=',')"
   ]
  },
  {
   "cell_type": "code",
   "execution_count": 5,
   "id": "5fa7e925",
   "metadata": {},
   "outputs": [
    {
     "name": "stdout",
     "output_type": "stream",
     "text": [
      "[[  6.    148.     72.    ...   0.627  50.      1.   ]\n",
      " [  1.     85.     66.    ...   0.351  31.      0.   ]\n",
      " [  8.    183.     64.    ...   0.672  32.      1.   ]\n",
      " ...\n",
      " [  5.    121.     72.    ...   0.245  30.      0.   ]\n",
      " [  1.    126.     60.    ...   0.349  47.      1.   ]\n",
      " [  1.     93.     70.    ...   0.315  23.      0.   ]]\n"
     ]
    }
   ],
   "source": [
    "# Show dataset\n",
    "print (dataset)"
   ]
  },
  {
   "cell_type": "code",
   "execution_count": 6,
   "id": "c5e571bc",
   "metadata": {},
   "outputs": [],
   "source": [
    "# First 8 columns are the input to NN, last is output label\n",
    "X = dataset[:,0:8]\n",
    "y = dataset[:,8]\n",
    "\n"
   ]
  },
  {
   "cell_type": "code",
   "execution_count": 7,
   "id": "c5e441fb",
   "metadata": {},
   "outputs": [],
   "source": [
    "# The keras model\n",
    "model = Sequential()\n",
    "model.add(Dense(12, input_dim=8, activation='relu'))\n",
    "model.add(Dense(8, activation='relu'))\n",
    "model.add(Dense(1, activation='sigmoid'))"
   ]
  },
  {
   "cell_type": "code",
   "execution_count": 8,
   "id": "a12a23a0",
   "metadata": {},
   "outputs": [],
   "source": [
    "# compile the keras model\n",
    "model.compile(loss='binary_crossentropy', optimizer='adam', metrics=['accuracy'])\n",
    "\n"
   ]
  },
  {
   "cell_type": "code",
   "execution_count": 9,
   "id": "4a73f7b4",
   "metadata": {},
   "outputs": [
    {
     "name": "stdout",
     "output_type": "stream",
     "text": [
      "Model: \"sequential\"\n",
      "_________________________________________________________________\n",
      " Layer (type)                Output Shape              Param #   \n",
      "=================================================================\n",
      " dense (Dense)               (None, 12)                108       \n",
      "                                                                 \n",
      " dense_1 (Dense)             (None, 8)                 104       \n",
      "                                                                 \n",
      " dense_2 (Dense)             (None, 1)                 9         \n",
      "                                                                 \n",
      "=================================================================\n",
      "Total params: 221\n",
      "Trainable params: 221\n",
      "Non-trainable params: 0\n",
      "_________________________________________________________________\n"
     ]
    }
   ],
   "source": [
    "# See summary of the model\n",
    "model.summary()\n"
   ]
  },
  {
   "cell_type": "code",
   "execution_count": 10,
   "id": "e4945f82",
   "metadata": {},
   "outputs": [
    {
     "name": "stdout",
     "output_type": "stream",
     "text": [
      "Epoch 1/150\n",
      "77/77 [==============================] - 1s 970us/step - loss: 1.6501 - accuracy: 0.5391\n",
      "Epoch 2/150\n",
      "77/77 [==============================] - 0s 915us/step - loss: 0.9616 - accuracy: 0.5768\n",
      "Epoch 3/150\n",
      "77/77 [==============================] - 0s 906us/step - loss: 0.8613 - accuracy: 0.6003\n",
      "Epoch 4/150\n",
      "77/77 [==============================] - 0s 908us/step - loss: 0.8238 - accuracy: 0.5846\n",
      "Epoch 5/150\n",
      "77/77 [==============================] - 0s 899us/step - loss: 0.7677 - accuracy: 0.6094\n",
      "Epoch 6/150\n",
      "77/77 [==============================] - 0s 924us/step - loss: 0.7380 - accuracy: 0.6172\n",
      "Epoch 7/150\n",
      "77/77 [==============================] - 0s 948us/step - loss: 0.7242 - accuracy: 0.6393\n",
      "Epoch 8/150\n",
      "77/77 [==============================] - 0s 945us/step - loss: 0.6962 - accuracy: 0.6523\n",
      "Epoch 9/150\n",
      "77/77 [==============================] - 0s 888us/step - loss: 0.6861 - accuracy: 0.6406\n",
      "Epoch 10/150\n",
      "77/77 [==============================] - 0s 932us/step - loss: 0.7209 - accuracy: 0.6354\n",
      "Epoch 11/150\n",
      "77/77 [==============================] - 0s 922us/step - loss: 0.7055 - accuracy: 0.6393\n",
      "Epoch 12/150\n",
      "77/77 [==============================] - 0s 946us/step - loss: 0.6421 - accuracy: 0.6641\n",
      "Epoch 13/150\n",
      "77/77 [==============================] - 0s 885us/step - loss: 0.6339 - accuracy: 0.6667\n",
      "Epoch 14/150\n",
      "77/77 [==============================] - 0s 897us/step - loss: 0.6660 - accuracy: 0.6484\n",
      "Epoch 15/150\n",
      "77/77 [==============================] - 0s 916us/step - loss: 0.6735 - accuracy: 0.6497\n",
      "Epoch 16/150\n",
      "77/77 [==============================] - 0s 893us/step - loss: 0.6544 - accuracy: 0.6693\n",
      "Epoch 17/150\n",
      "77/77 [==============================] - 0s 900us/step - loss: 0.6193 - accuracy: 0.6888\n",
      "Epoch 18/150\n",
      "77/77 [==============================] - 0s 914us/step - loss: 0.6210 - accuracy: 0.6732\n",
      "Epoch 19/150\n",
      "77/77 [==============================] - 0s 913us/step - loss: 0.6085 - accuracy: 0.6810\n",
      "Epoch 20/150\n",
      "77/77 [==============================] - 0s 932us/step - loss: 0.5891 - accuracy: 0.6979\n",
      "Epoch 21/150\n",
      "77/77 [==============================] - 0s 976us/step - loss: 0.6240 - accuracy: 0.6888\n",
      "Epoch 22/150\n",
      "77/77 [==============================] - 0s 908us/step - loss: 0.6102 - accuracy: 0.6784\n",
      "Epoch 23/150\n",
      "77/77 [==============================] - 0s 901us/step - loss: 0.6028 - accuracy: 0.6966\n",
      "Epoch 24/150\n",
      "77/77 [==============================] - 0s 910us/step - loss: 0.5866 - accuracy: 0.6927\n",
      "Epoch 25/150\n",
      "77/77 [==============================] - 0s 906us/step - loss: 0.5710 - accuracy: 0.7201\n",
      "Epoch 26/150\n",
      "77/77 [==============================] - 0s 893us/step - loss: 0.5877 - accuracy: 0.7031\n",
      "Epoch 27/150\n",
      "77/77 [==============================] - 0s 895us/step - loss: 0.6006 - accuracy: 0.6914\n",
      "Epoch 28/150\n",
      "77/77 [==============================] - 0s 901us/step - loss: 0.6084 - accuracy: 0.6992\n",
      "Epoch 29/150\n",
      "77/77 [==============================] - 0s 890us/step - loss: 0.5866 - accuracy: 0.6823\n",
      "Epoch 30/150\n",
      "77/77 [==============================] - 0s 924us/step - loss: 0.5685 - accuracy: 0.7227\n",
      "Epoch 31/150\n",
      "77/77 [==============================] - 0s 899us/step - loss: 0.5716 - accuracy: 0.7227\n",
      "Epoch 32/150\n",
      "77/77 [==============================] - 0s 890us/step - loss: 0.6056 - accuracy: 0.6979\n",
      "Epoch 33/150\n",
      "77/77 [==============================] - 0s 915us/step - loss: 0.5565 - accuracy: 0.7292\n",
      "Epoch 34/150\n",
      "77/77 [==============================] - 0s 881us/step - loss: 0.5857 - accuracy: 0.6940\n",
      "Epoch 35/150\n",
      "77/77 [==============================] - 0s 885us/step - loss: 0.5634 - accuracy: 0.7279\n",
      "Epoch 36/150\n",
      "77/77 [==============================] - 0s 917us/step - loss: 0.5570 - accuracy: 0.7357\n",
      "Epoch 37/150\n",
      "77/77 [==============================] - 0s 909us/step - loss: 0.5743 - accuracy: 0.7253\n",
      "Epoch 38/150\n",
      "77/77 [==============================] - 0s 910us/step - loss: 0.5687 - accuracy: 0.7122\n",
      "Epoch 39/150\n",
      "77/77 [==============================] - 0s 895us/step - loss: 0.5632 - accuracy: 0.7174\n",
      "Epoch 40/150\n",
      "77/77 [==============================] - 0s 894us/step - loss: 0.5504 - accuracy: 0.7305\n",
      "Epoch 41/150\n",
      "77/77 [==============================] - 0s 894us/step - loss: 0.5534 - accuracy: 0.7227\n",
      "Epoch 42/150\n",
      "77/77 [==============================] - 0s 898us/step - loss: 0.5376 - accuracy: 0.7565\n",
      "Epoch 43/150\n",
      "77/77 [==============================] - 0s 889us/step - loss: 0.5539 - accuracy: 0.7266\n",
      "Epoch 44/150\n",
      "77/77 [==============================] - 0s 899us/step - loss: 0.5403 - accuracy: 0.7409\n",
      "Epoch 45/150\n",
      "77/77 [==============================] - 0s 906us/step - loss: 0.5469 - accuracy: 0.7305\n",
      "Epoch 46/150\n",
      "77/77 [==============================] - 0s 889us/step - loss: 0.5393 - accuracy: 0.7344\n",
      "Epoch 47/150\n",
      "77/77 [==============================] - 0s 890us/step - loss: 0.5542 - accuracy: 0.7344\n",
      "Epoch 48/150\n",
      "77/77 [==============================] - 0s 898us/step - loss: 0.5479 - accuracy: 0.7201\n",
      "Epoch 49/150\n",
      "77/77 [==============================] - 0s 891us/step - loss: 0.5358 - accuracy: 0.7500\n",
      "Epoch 50/150\n",
      "77/77 [==============================] - 0s 874us/step - loss: 0.5376 - accuracy: 0.7318\n",
      "Epoch 51/150\n",
      "77/77 [==============================] - 0s 941us/step - loss: 0.5416 - accuracy: 0.7279\n",
      "Epoch 52/150\n",
      "77/77 [==============================] - 0s 956us/step - loss: 0.5576 - accuracy: 0.7214\n",
      "Epoch 53/150\n",
      "77/77 [==============================] - 0s 934us/step - loss: 0.5366 - accuracy: 0.7253\n",
      "Epoch 54/150\n",
      "77/77 [==============================] - 0s 876us/step - loss: 0.5370 - accuracy: 0.7487\n",
      "Epoch 55/150\n",
      "77/77 [==============================] - 0s 881us/step - loss: 0.5458 - accuracy: 0.7292\n",
      "Epoch 56/150\n",
      "77/77 [==============================] - 0s 892us/step - loss: 0.5280 - accuracy: 0.7344\n",
      "Epoch 57/150\n",
      "77/77 [==============================] - 0s 887us/step - loss: 0.5254 - accuracy: 0.7474\n",
      "Epoch 58/150\n",
      "77/77 [==============================] - 0s 872us/step - loss: 0.5436 - accuracy: 0.7383\n",
      "Epoch 59/150\n",
      "77/77 [==============================] - 0s 882us/step - loss: 0.5196 - accuracy: 0.7435\n",
      "Epoch 60/150\n",
      "77/77 [==============================] - 0s 882us/step - loss: 0.5195 - accuracy: 0.7383\n",
      "Epoch 61/150\n",
      "77/77 [==============================] - 0s 900us/step - loss: 0.5385 - accuracy: 0.7318\n",
      "Epoch 62/150\n",
      "77/77 [==============================] - 0s 920us/step - loss: 0.5202 - accuracy: 0.7513\n",
      "Epoch 63/150\n",
      "77/77 [==============================] - 0s 913us/step - loss: 0.5312 - accuracy: 0.7409\n",
      "Epoch 64/150\n",
      "77/77 [==============================] - 0s 899us/step - loss: 0.5067 - accuracy: 0.7604\n",
      "Epoch 65/150\n",
      "77/77 [==============================] - 0s 912us/step - loss: 0.5247 - accuracy: 0.7409\n",
      "Epoch 66/150\n",
      "77/77 [==============================] - 0s 900us/step - loss: 0.5197 - accuracy: 0.7552\n",
      "Epoch 67/150\n",
      "77/77 [==============================] - 0s 888us/step - loss: 0.5554 - accuracy: 0.7135\n",
      "Epoch 68/150\n",
      "77/77 [==============================] - 0s 929us/step - loss: 0.5321 - accuracy: 0.7370\n",
      "Epoch 69/150\n",
      "77/77 [==============================] - 0s 925us/step - loss: 0.5143 - accuracy: 0.7396\n",
      "Epoch 70/150\n",
      "77/77 [==============================] - 0s 937us/step - loss: 0.5126 - accuracy: 0.7474\n",
      "Epoch 71/150\n",
      "77/77 [==============================] - 0s 964us/step - loss: 0.5148 - accuracy: 0.7396\n",
      "Epoch 72/150\n",
      "77/77 [==============================] - 0s 887us/step - loss: 0.5193 - accuracy: 0.7604\n",
      "Epoch 73/150\n",
      "77/77 [==============================] - 0s 914us/step - loss: 0.5067 - accuracy: 0.7526\n",
      "Epoch 74/150\n",
      "77/77 [==============================] - 0s 895us/step - loss: 0.5047 - accuracy: 0.7604\n",
      "Epoch 75/150\n",
      "77/77 [==============================] - 0s 939us/step - loss: 0.5400 - accuracy: 0.7409\n",
      "Epoch 76/150\n",
      "77/77 [==============================] - 0s 934us/step - loss: 0.5384 - accuracy: 0.7513\n",
      "Epoch 77/150\n",
      "77/77 [==============================] - 0s 926us/step - loss: 0.5054 - accuracy: 0.7565\n",
      "Epoch 78/150\n",
      "77/77 [==============================] - 0s 947us/step - loss: 0.5130 - accuracy: 0.7695\n",
      "Epoch 79/150\n",
      "77/77 [==============================] - 0s 931us/step - loss: 0.4981 - accuracy: 0.7604\n",
      "Epoch 80/150\n",
      "77/77 [==============================] - 0s 921us/step - loss: 0.5017 - accuracy: 0.7552\n",
      "Epoch 81/150\n",
      "77/77 [==============================] - 0s 929us/step - loss: 0.5011 - accuracy: 0.7656\n",
      "Epoch 82/150\n",
      "77/77 [==============================] - 0s 923us/step - loss: 0.5104 - accuracy: 0.7461\n",
      "Epoch 83/150\n",
      "77/77 [==============================] - 0s 922us/step - loss: 0.5105 - accuracy: 0.7656\n",
      "Epoch 84/150\n",
      "77/77 [==============================] - 0s 925us/step - loss: 0.5236 - accuracy: 0.7474\n",
      "Epoch 85/150\n",
      "77/77 [==============================] - 0s 926us/step - loss: 0.5074 - accuracy: 0.7630\n",
      "Epoch 86/150\n",
      "77/77 [==============================] - 0s 927us/step - loss: 0.5033 - accuracy: 0.7513\n",
      "Epoch 87/150\n",
      "77/77 [==============================] - 0s 926us/step - loss: 0.5149 - accuracy: 0.7604\n",
      "Epoch 88/150\n",
      "77/77 [==============================] - 0s 913us/step - loss: 0.5050 - accuracy: 0.7682\n",
      "Epoch 89/150\n",
      "77/77 [==============================] - 0s 958us/step - loss: 0.4979 - accuracy: 0.7565\n",
      "Epoch 90/150\n",
      "77/77 [==============================] - 0s 891us/step - loss: 0.5321 - accuracy: 0.7461\n",
      "Epoch 91/150\n",
      "77/77 [==============================] - 0s 888us/step - loss: 0.5017 - accuracy: 0.7747\n",
      "Epoch 92/150\n",
      "77/77 [==============================] - 0s 885us/step - loss: 0.5252 - accuracy: 0.7526\n",
      "Epoch 93/150\n",
      "77/77 [==============================] - 0s 914us/step - loss: 0.5028 - accuracy: 0.7578\n",
      "Epoch 94/150\n",
      "77/77 [==============================] - 0s 892us/step - loss: 0.4874 - accuracy: 0.7721\n",
      "Epoch 95/150\n",
      "77/77 [==============================] - 0s 913us/step - loss: 0.5065 - accuracy: 0.7656\n",
      "Epoch 96/150\n",
      "77/77 [==============================] - 0s 896us/step - loss: 0.5083 - accuracy: 0.7474\n",
      "Epoch 97/150\n",
      "77/77 [==============================] - 0s 900us/step - loss: 0.4992 - accuracy: 0.7487\n",
      "Epoch 98/150\n",
      "77/77 [==============================] - 0s 912us/step - loss: 0.5045 - accuracy: 0.7604\n",
      "Epoch 99/150\n",
      "77/77 [==============================] - 0s 907us/step - loss: 0.5071 - accuracy: 0.7539\n",
      "Epoch 100/150\n",
      "77/77 [==============================] - 0s 932us/step - loss: 0.5042 - accuracy: 0.7526\n",
      "Epoch 101/150\n",
      "77/77 [==============================] - 0s 918us/step - loss: 0.4819 - accuracy: 0.7708\n",
      "Epoch 102/150\n",
      "77/77 [==============================] - 0s 922us/step - loss: 0.5419 - accuracy: 0.7474\n",
      "Epoch 103/150\n",
      "77/77 [==============================] - 0s 909us/step - loss: 0.5280 - accuracy: 0.7422\n",
      "Epoch 104/150\n",
      "77/77 [==============================] - 0s 944us/step - loss: 0.4976 - accuracy: 0.7760\n",
      "Epoch 105/150\n",
      "77/77 [==============================] - 0s 917us/step - loss: 0.4945 - accuracy: 0.7669\n",
      "Epoch 106/150\n",
      "77/77 [==============================] - 0s 925us/step - loss: 0.4888 - accuracy: 0.7565\n",
      "Epoch 107/150\n",
      "77/77 [==============================] - 0s 947us/step - loss: 0.4895 - accuracy: 0.7682\n",
      "Epoch 108/150\n",
      "77/77 [==============================] - 0s 918us/step - loss: 0.5091 - accuracy: 0.7526\n",
      "Epoch 109/150\n",
      "77/77 [==============================] - 0s 904us/step - loss: 0.4892 - accuracy: 0.7630\n",
      "Epoch 110/150\n",
      "77/77 [==============================] - 0s 937us/step - loss: 0.5064 - accuracy: 0.7578\n",
      "Epoch 111/150\n",
      "77/77 [==============================] - 0s 912us/step - loss: 0.4841 - accuracy: 0.7617\n",
      "Epoch 112/150\n",
      "77/77 [==============================] - 0s 928us/step - loss: 0.4893 - accuracy: 0.7747\n",
      "Epoch 113/150\n",
      "77/77 [==============================] - 0s 920us/step - loss: 0.5076 - accuracy: 0.7539\n",
      "Epoch 114/150\n",
      "77/77 [==============================] - 0s 914us/step - loss: 0.4820 - accuracy: 0.7695\n",
      "Epoch 115/150\n",
      "77/77 [==============================] - 0s 926us/step - loss: 0.5029 - accuracy: 0.7461\n",
      "Epoch 116/150\n",
      "77/77 [==============================] - 0s 925us/step - loss: 0.4895 - accuracy: 0.7617\n",
      "Epoch 117/150\n",
      "77/77 [==============================] - 0s 939us/step - loss: 0.4833 - accuracy: 0.7760\n",
      "Epoch 118/150\n",
      "77/77 [==============================] - 0s 908us/step - loss: 0.4793 - accuracy: 0.7734\n",
      "Epoch 119/150\n",
      "77/77 [==============================] - 0s 907us/step - loss: 0.4892 - accuracy: 0.7669\n",
      "Epoch 120/150\n",
      "77/77 [==============================] - 0s 906us/step - loss: 0.4885 - accuracy: 0.7604\n",
      "Epoch 121/150\n",
      "77/77 [==============================] - 0s 917us/step - loss: 0.4870 - accuracy: 0.7643\n",
      "Epoch 122/150\n",
      "77/77 [==============================] - 0s 933us/step - loss: 0.4946 - accuracy: 0.7799\n",
      "Epoch 123/150\n",
      "77/77 [==============================] - 0s 908us/step - loss: 0.4757 - accuracy: 0.7747\n",
      "Epoch 124/150\n",
      "77/77 [==============================] - 0s 922us/step - loss: 0.4819 - accuracy: 0.7682\n",
      "Epoch 125/150\n",
      "77/77 [==============================] - 0s 922us/step - loss: 0.4755 - accuracy: 0.7891\n",
      "Epoch 126/150\n",
      "77/77 [==============================] - 0s 933us/step - loss: 0.5449 - accuracy: 0.7565\n",
      "Epoch 127/150\n",
      "77/77 [==============================] - 0s 913us/step - loss: 0.4874 - accuracy: 0.7604\n",
      "Epoch 128/150\n",
      "77/77 [==============================] - 0s 919us/step - loss: 0.4714 - accuracy: 0.7852\n",
      "Epoch 129/150\n",
      "77/77 [==============================] - 0s 937us/step - loss: 0.4965 - accuracy: 0.7565\n",
      "Epoch 130/150\n",
      "77/77 [==============================] - 0s 966us/step - loss: 0.4973 - accuracy: 0.7734\n",
      "Epoch 131/150\n",
      "77/77 [==============================] - 0s 906us/step - loss: 0.4746 - accuracy: 0.7773\n",
      "Epoch 132/150\n",
      "77/77 [==============================] - 0s 921us/step - loss: 0.4918 - accuracy: 0.7708\n",
      "Epoch 133/150\n",
      "77/77 [==============================] - 0s 913us/step - loss: 0.4727 - accuracy: 0.7812\n",
      "Epoch 134/150\n",
      "77/77 [==============================] - 0s 927us/step - loss: 0.4835 - accuracy: 0.7708\n",
      "Epoch 135/150\n",
      "77/77 [==============================] - 0s 919us/step - loss: 0.4823 - accuracy: 0.7682\n",
      "Epoch 136/150\n",
      "77/77 [==============================] - 0s 918us/step - loss: 0.4868 - accuracy: 0.7682\n",
      "Epoch 137/150\n",
      "77/77 [==============================] - 0s 914us/step - loss: 0.4879 - accuracy: 0.7617\n",
      "Epoch 138/150\n",
      "77/77 [==============================] - 0s 917us/step - loss: 0.4884 - accuracy: 0.7643\n",
      "Epoch 139/150\n",
      "77/77 [==============================] - 0s 954us/step - loss: 0.4755 - accuracy: 0.7760\n",
      "Epoch 140/150\n",
      "77/77 [==============================] - 0s 908us/step - loss: 0.5022 - accuracy: 0.7591\n",
      "Epoch 141/150\n",
      "77/77 [==============================] - 0s 927us/step - loss: 0.4729 - accuracy: 0.7917\n",
      "Epoch 142/150\n",
      "77/77 [==============================] - 0s 937us/step - loss: 0.4783 - accuracy: 0.7734\n",
      "Epoch 143/150\n",
      "77/77 [==============================] - 0s 919us/step - loss: 0.4834 - accuracy: 0.7695\n",
      "Epoch 144/150\n",
      "77/77 [==============================] - 0s 920us/step - loss: 0.4728 - accuracy: 0.7708\n",
      "Epoch 145/150\n",
      "77/77 [==============================] - 0s 927us/step - loss: 0.4688 - accuracy: 0.7734\n",
      "Epoch 146/150\n",
      "77/77 [==============================] - 0s 929us/step - loss: 0.4871 - accuracy: 0.7630\n",
      "Epoch 147/150\n",
      "77/77 [==============================] - 0s 906us/step - loss: 0.4824 - accuracy: 0.7786\n",
      "Epoch 148/150\n",
      "77/77 [==============================] - 0s 914us/step - loss: 0.5050 - accuracy: 0.7552\n",
      "Epoch 149/150\n",
      "77/77 [==============================] - 0s 926us/step - loss: 0.4958 - accuracy: 0.7708\n",
      "Epoch 150/150\n",
      "77/77 [==============================] - 0s 926us/step - loss: 0.4807 - accuracy: 0.7747\n"
     ]
    },
    {
     "data": {
      "text/plain": [
       "<keras.callbacks.History at 0x7f8ab81a43d0>"
      ]
     },
     "execution_count": 10,
     "metadata": {},
     "output_type": "execute_result"
    }
   ],
   "source": [
    "# fit the keras model on the dataset\n",
    "model.fit(X, y, epochs=150, batch_size=10)"
   ]
  },
  {
   "cell_type": "code",
   "execution_count": 11,
   "id": "24bd63cf",
   "metadata": {},
   "outputs": [
    {
     "name": "stdout",
     "output_type": "stream",
     "text": [
      "24/24 [==============================] - 0s 925us/step - loss: 0.4664 - accuracy: 0.7826\n",
      "Accuracy: 78.26\n"
     ]
    }
   ],
   "source": [
    "# evaluate the keras model\n",
    "_, accuracy = model.evaluate(X, y)\n",
    "print('Accuracy: %.2f' % (accuracy*100))"
   ]
  },
  {
   "cell_type": "code",
   "execution_count": 12,
   "id": "300e861b",
   "metadata": {},
   "outputs": [
    {
     "name": "stdout",
     "output_type": "stream",
     "text": [
      "24/24 [==============================] - 0s 756us/step\n"
     ]
    }
   ],
   "source": [
    "# Make predictions. Assuming X is also the data to predict on\n",
    "predictions = model.predict(X)"
   ]
  },
  {
   "cell_type": "code",
   "execution_count": 13,
   "id": "a19ed339",
   "metadata": {},
   "outputs": [
    {
     "name": "stdout",
     "output_type": "stream",
     "text": [
      "[6.0, 148.0, 72.0, 35.0, 0.0, 33.6, 0.627, 50.0] => 0 (expected 1)\n",
      "[1.0, 85.0, 66.0, 29.0, 0.0, 26.6, 0.351, 31.0] => 0 (expected 0)\n",
      "[8.0, 183.0, 64.0, 0.0, 0.0, 23.3, 0.672, 32.0] => 0 (expected 1)\n",
      "[1.0, 89.0, 66.0, 23.0, 94.0, 28.1, 0.167, 21.0] => 0 (expected 0)\n",
      "[0.0, 137.0, 40.0, 35.0, 168.0, 43.1, 2.288, 33.0] => 0 (expected 1)\n"
     ]
    }
   ],
   "source": [
    "# summarize the first 5 cases\n",
    "for i in range(5):\n",
    "    print('%s => %d (expected %d)' % (X[i].tolist(), predictions[i], y[i]))"
   ]
  },
  {
   "cell_type": "code",
   "execution_count": 15,
   "id": "de3a53ea",
   "metadata": {},
   "outputs": [
    {
     "data": {
      "image/png": "[encoded data removed]",
      "text/plain": [
       "<IPython.core.display.Image object>"
      ]
     },
     "execution_count": 15,
     "metadata": {},
     "output_type": "execute_result"
    }
   ],
   "source": [
    "from keras.utils import plot_model\n",
    "plot_model(model, show_shapes=True, to_file='data/classification-pima.png')"
   ]
  },
  {
   "cell_type": "code",
   "execution_count": null,
   "id": "5fbe3592",
   "metadata": {},
   "outputs": [],
   "source": []
  }
 ],
 "metadata": {
  "kernelspec": {
   "display_name": "Python 3",
   "language": "python",
   "name": "python3"
  },
  "language_info": {
   "codemirror_mode": {
    "name": "ipython",
    "version": 3
   },
   "file_extension": ".py",
   "mimetype": "text/x-python",
   "name": "python",
   "nbconvert_exporter": "python",
   "pygments_lexer": "ipython3",
   "version": "3.7.6"
  }
 },
 "nbformat": 4,
 "nbformat_minor": 5
}
