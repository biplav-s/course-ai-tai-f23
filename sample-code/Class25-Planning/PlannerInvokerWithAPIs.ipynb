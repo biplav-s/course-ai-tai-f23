{
 "cells": [
  {
   "cell_type": "code",
   "execution_count": 8,
   "id": "74177312-5ab5-4201-ba0a-8a471375f880",
   "metadata": {},
   "outputs": [],
   "source": [
    "# Created by Biplav Srivastava\n",
    "# See more examples of problems in: \n",
    "# - https://github.com/AI-Planning/classical-domains/tree/main/classical\n",
    "# - https://github.com/ai4society/planning-resources/tree/main/hanoi"
   ]
  },
  {
   "cell_type": "code",
   "execution_count": 2,
   "id": "5f9ada32-5fb4-4277-86c5-562e9805ecfc",
   "metadata": {},
   "outputs": [],
   "source": [
    "# Based on http://solver.planning.domains/\n",
    "import requests"
   ]
  },
  {
   "cell_type": "code",
   "execution_count": 3,
   "id": "e88921e9-8a20-4e76-89d6-24139e656845",
   "metadata": {},
   "outputs": [],
   "source": [
    "# domains from - https://github.com/AI-Planning/classical-domains/tree/master/classical/blocks\n",
    "# stored locally\n",
    "domain_file = \"data/domain.pddl\"\n",
    "problem_file = \"data/problem.pddl\" \n",
    "output_file = \"data/plan.txt\""
   ]
  },
  {
   "cell_type": "code",
   "execution_count": 4,
   "id": "eacdbd40-165a-48f2-938d-34563f8f43a2",
   "metadata": {},
   "outputs": [],
   "source": [
    "import requests, sys"
   ]
  },
  {
   "cell_type": "code",
   "execution_count": 5,
   "id": "2a8b7d5f-cd04-40ed-bdf8-50dcf0d05884",
   "metadata": {},
   "outputs": [
    {
     "name": "stdout",
     "output_type": "stream",
     "text": [
      "Reading files - data/domain.pddl, problem - data/problem.pddl.\n"
     ]
    }
   ],
   "source": [
    "# Reading input files - domain and problem \n",
    "print (f\"Reading files - {domain_file}, problem - {problem_file}.\")\n",
    "\n",
    "data = {'domain': open(domain_file, 'r').read(), 'problem': open(problem_file, 'r').read()}\n"
   ]
  },
  {
   "cell_type": "code",
   "execution_count": 6,
   "id": "44cc70c7-f20e-469c-a0fc-3cba38c9847e",
   "metadata": {},
   "outputs": [
    {
     "name": "stdout",
     "output_type": "stream",
     "text": [
      "Calling planner with domain - data/domain.pddl, problem - data/problem.pddl. Output will be in - data/plan.txt\n"
     ]
    }
   ],
   "source": [
    "# Reading problem\n",
    "print (f\"Calling planner with domain - {domain_file}, problem - {problem_file}. Output will be in - {output_file}\")\n",
    "\n",
    "resp = requests.post('http://solver.planning.domains/solve',\n",
    "                     verify=False, json=data).json()"
   ]
  },
  {
   "cell_type": "code",
   "execution_count": 7,
   "id": "ffc89efe-79a0-4906-a54a-fc1f923c5885",
   "metadata": {},
   "outputs": [],
   "source": [
    "# Writing Result (plan)\n",
    "with open(output_file, 'w') as f:\n",
    "    f.write('\\n'.join([act['name'] for act in resp['result']['plan']]))"
   ]
  },
  {
   "cell_type": "code",
   "execution_count": null,
   "id": "794213c3-3543-429f-a3ba-e948cb0a8802",
   "metadata": {},
   "outputs": [],
   "source": []
  }
 ],
 "metadata": {
  "kernelspec": {
   "display_name": "Python 3 (ipykernel)",
   "language": "python",
   "name": "python3"
  },
  "language_info": {
   "codemirror_mode": {
    "name": "ipython",
    "version": 3
   },
   "file_extension": ".py",
   "mimetype": "text/x-python",
   "name": "python",
   "nbconvert_exporter": "python",
   "pygments_lexer": "ipython3",
   "version": "3.11.3"
  }
 },
 "nbformat": 4,
 "nbformat_minor": 5
}
